{
 "cells": [
  {
   "cell_type": "markdown",
   "metadata": {},
   "source": [
    "# Junior Applied Machine Learning Technical Test"
   ]
  },
  {
   "cell_type": "markdown",
   "metadata": {},
   "source": [
    "**Hello! Thanks for applying for the Junior Machine Learning position in Red Points. This is the technical challenge for this position. It consists of two parts: a coding and a discussion challenge.**\n",
    "\n",
    "### Coding Test: Listing title classifier\n",
    "\n",
    "**In Red Points we handle many online infringements provided by automatic online search bots. These bots extract from the different websites the titles for all the listings found online.**\n",
    "\n",
    "**For example, imagine that we have a protected product called: “dji mavic pro”. Bots start searching and retrieve many listings, providing us with this titles:**\n",
    "\n",
    "* **DJI Mavic Pro Clone Drone With Wifi FPV 1080P HD Camera Foldable RC Quadcopter ✔**\n",
    "* **DJI MAVIC PRO FLY MORE COMBO con Garanzia Attiva + Eliche Platinum + Accessori**\n",
    "* **dji mavic pro fly SPECIAL White Edition**\n",
    "* **Vectorsave 10 Mavic RS paracaídas sistema para DJI Mavic drones**\n",
    "\n",
    "**Some of them belong to the protected product, and some of them don’t (the listings sell accessories instead of the main product, they sell a different product or a different model that the one we are protecting). Given this information, we propose the following problem:**\n",
    "\n",
    "**1. Design a text classifier which will be able to classify a listing title in two categories: ASSET or NON-ASSET (is the product or not, respectively). For this, we provide three datasets for three different products, so you have examples of the kind of data that the bots provide. The data has been already labeled by some users. You should create a single model for each product using the same method: same algorithm, different data.**\n",
    "\n",
    "**2. Try at least two or three methods to do this, and compare the results, explaining the advantages and disadvantages for each method. Additionally, provide at least one graphic with the algorithm comparison.**\n",
    "\n",
    "- Two different approaches for feature extraction have been used. A first approch, based on text characteristics, which traverses the text to count different metrics (words density, digits, uppercase words, etc) and a second approach, based of TF-IDF (instead of a more simpler bag of words) in order to account for less recurrent words to have higher meaning when contructing the feature vectors. \n",
    "\n",
    "- On each approach, four different algorithms have been used. Due to the amount of data, the choosen algorithms do not include methods which allow for more complexity to be learnt (e.g: ANN).\n",
    "\n",
    "The four choosen algorithms are the following:\n",
    "1. Naive Bayes classifier\n",
    "    + Fast training and prediction. Low CPU / memory usage.\n",
    "    - As the name suggests \"Naive\" for taking into account possible relationships between features.\n",
    "    - Sensitive to other distributions than guassian.\n",
    "\n",
    "\n",
    "2. Support Vector classifier\n",
    "    + Scalable for higher dimenisional datasets.\n",
    "    + Memory eficient\n",
    "    - Reduced performance on overlapping target classes.\n",
    "    - Small interepretability (points on one side or other of a line).\n",
    "    - Small impact from outliers (Only support vectors decision).\n",
    "\n",
    "\n",
    "3. Random forest classifier\n",
    "    + Avoid overfitting due to the combination of multiple decission trees.\n",
    "    + Able to represent complex data (simple NN alike), even with small datasets.\n",
    "    + Do not require preparation of the input data.\n",
    "    - Time / resource consuming to train.\n",
    "    - Less interpretable than single decision trees.\n",
    "\n",
    "**3. (Optional) Take into account training and prediction time. How long does the algorithm take to train and predict? Does your selected algorithm work properly under heavy time constraints?**\n",
    "\n",
    "1. Naive Bayes classifier\n",
    "    + Fast training (only priors and likelyhoods have to be computed).\n",
    "    + Fast prediction (posterior computation and max prob). Scales linearly.\n",
    "\n",
    "\n",
    "2. Support Vector classifier (linear)\n",
    "    + Training based on estimating weights and biases solving a quadratic problem.\n",
    "    + Fast prediction (Constant on the input dimensions)\n",
    "\n",
    "\n",
    "3. Random forest classifier\n",
    "    + Slow training (several trees have to be made, including the randomisation)\n",
    "    + Slow prediction (Each tree needs to be accessed)\n",
    "\n",
    "\n",
    "**Please provide the code and results in a Jupyter/google colab notebook, in a github project.**"
   ]
  },
  {
   "cell_type": "markdown",
   "metadata": {},
   "source": [
    "# Imports "
   ]
  },
  {
   "cell_type": "code",
   "execution_count": 120,
   "metadata": {},
   "outputs": [],
   "source": [
    "import glob\n",
    "# import keras\n",
    "\n",
    "import html\n",
    "\n",
    "import matplotlib.pyplot as plt\n",
    "\n",
    "import numpy as np\n",
    "\n",
    "import pandas as pd\n",
    "\n",
    "from sklearn import model_selection, preprocessing, metrics, svm, ensemble, linear_model\n",
    "from sklearn.naive_bayes import BernoulliNB, MultinomialNB\n",
    "from sklearn.feature_extraction.text import TfidfVectorizer, CountVectorizer\n",
    "from sklearn.model_selection import StratifiedKFold, cross_val_score, train_test_split\n",
    "\n",
    "import string"
   ]
  },
  {
   "cell_type": "markdown",
   "metadata": {},
   "source": [
    "### Dataset reading\n",
    "\n",
    "Mavic dataset appears to have some misplaced columns with the value \"dji mavic pro\". In order to make the dataset fully readable, that column has been removed beforehand."
   ]
  },
  {
   "cell_type": "code",
   "execution_count": 121,
   "metadata": {},
   "outputs": [],
   "source": [
    "dataset_folder = \"ratings\"\n",
    "dataset_files = glob.glob(dataset_folder + \"/*.dat\")\n",
    "datasets = []\n",
    "\n",
    "for data_file_path in dataset_files:\n",
    "    datasets.append(pd.read_csv(data_file_path, sep='\\t', header=None))\n"
   ]
  },
  {
   "cell_type": "code",
   "execution_count": 122,
   "metadata": {},
   "outputs": [
    {
     "name": "stdout",
     "output_type": "stream",
     "text": [
      "(5335, 3)\n",
      "(5612, 3)\n",
      "(696, 3)\n"
     ]
    }
   ],
   "source": [
    "for dataset in datasets:\n",
    "    print(dataset.shape)"
   ]
  },
  {
   "cell_type": "markdown",
   "metadata": {},
   "source": [
    "### Dataset preprocessing (if needed)"
   ]
  },
  {
   "cell_type": "markdown",
   "metadata": {},
   "source": [
    "#### Dropping duplicates"
   ]
  },
  {
   "cell_type": "code",
   "execution_count": 123,
   "metadata": {},
   "outputs": [
    {
     "name": "stdout",
     "output_type": "stream",
     "text": [
      "(5335, 3)\n",
      "(5612, 3)\n",
      "(696, 3)\n"
     ]
    }
   ],
   "source": [
    "for dataset in datasets:\n",
    "    print(dataset.shape)"
   ]
  },
  {
   "cell_type": "code",
   "execution_count": 124,
   "metadata": {},
   "outputs": [],
   "source": [
    "datasets = [dataset.drop_duplicates() for dataset in datasets]"
   ]
  },
  {
   "cell_type": "code",
   "execution_count": 125,
   "metadata": {},
   "outputs": [
    {
     "name": "stdout",
     "output_type": "stream",
     "text": [
      "(1310, 3)\n",
      "(315, 3)\n",
      "(696, 3)\n"
     ]
    }
   ],
   "source": [
    "for dataset in datasets:\n",
    "    print(dataset.shape)"
   ]
  },
  {
   "cell_type": "markdown",
   "metadata": {},
   "source": [
    "#### Convert HTML entities found in text"
   ]
  },
  {
   "cell_type": "markdown",
   "metadata": {},
   "source": [
    "A first inspection on the dataset showed that some html entities where present on the text as plain text (unescaped). "
   ]
  },
  {
   "cell_type": "code",
   "execution_count": 131,
   "metadata": {},
   "outputs": [],
   "source": [
    "datasets[0][1] = datasets[0][1].apply(html.unescape)\n",
    "datasets[1][1] = datasets[1][1].apply(html.unescape)\n",
    "datasets[2][1] = datasets[2][1].apply(html.unescape)"
   ]
  },
  {
   "cell_type": "markdown",
   "metadata": {},
   "source": [
    "### Text features compilation"
   ]
  },
  {
   "cell_type": "code",
   "execution_count": 160,
   "metadata": {},
   "outputs": [],
   "source": [
    "def check_pos_tag(x, flag):\n",
    "    pos_family = {\n",
    "        'noun': ['NN', 'NNS', 'NNP', 'NNPS'],\n",
    "        'pron': ['PRP', 'PRP$', 'WP', 'WP$'],\n",
    "        'verb': ['VB', 'VBD', 'VBG', 'VBN', 'VBP', 'VBZ'],\n",
    "        'adj': ['JJ', 'JJR', 'JJS'],\n",
    "        'adv': ['RB', 'RBR', 'RBS', 'WRB']\n",
    "    }\n",
    "\n",
    "    cnt = 0\n",
    "    try:\n",
    "        wiki = textblob.TextBlob(x)\n",
    "        for tup in wiki.tags:\n",
    "            ppo = list(tup)[1]\n",
    "            if ppo in pos_family[flag]:\n",
    "                cnt += 1\n",
    "    except:\n",
    "        pass\n",
    "    return cnt\n",
    "\n",
    "def compute_text_features(dataset):\n",
    "    dataframe = pd.DataFrame()\n",
    "    dataframe['char_count'] = dataset[1].apply(lambda x: sum(c.isalpha() for c in x))\n",
    "    dataframe['digit_count'] = dataset[1].apply(lambda x: sum(c.isdigit() for c in x))\n",
    "    dataframe['word_count'] = dataset[1].apply(lambda x: len(x.split(\" \")))\n",
    "    dataframe['word_density'] = dataset[1].apply(len) / (dataframe['word_count'] + 1)\n",
    "    dataframe['punctuation_count'] = dataset[1].apply(\n",
    "        lambda x: len(\"\".join(_ for _ in x if _ in string.punctuation)))\n",
    "    dataframe['title_word_count'] = dataset[1].apply(lambda x: len([wrd for wrd in x.split() if wrd.istitle()]))\n",
    "    dataframe['upper_case_word_count'] = dataset[1].apply(lambda x: len([wrd for wrd in x.split() if wrd.isupper()]))\n",
    "    \n",
    "    '''\n",
    "    dataframe['noun_count'] = dataset[1].apply(lambda x: check_pos_tag(x, 'noun'))\n",
    "    dataframe['verb_count'] = dataset[1].apply(lambda x: check_pos_tag(x, 'verb'))\n",
    "    dataframe['adj_count'] = dataset[1].apply(lambda x: check_pos_tag(x, 'adj'))\n",
    "    dataframe['adv_count'] = dataset[1].apply(lambda x: check_pos_tag(x, 'adv'))\n",
    "    dataframe['pron_count'] = dataset[1].apply(lambda x: check_pos_tag(x, 'pron'))\n",
    "    '''\n",
    "    dataframe['ASSET'] = dataset[2]\n",
    "\n",
    "    return dataframe"
   ]
  },
  {
   "cell_type": "markdown",
   "metadata": {},
   "source": [
    "### Spliting datasets and training\n",
    "\n",
    "Due to the amount of data available after preprocessing a 10-fold stratified cross-validation for partitioning the data and traning the models has been used, since it would be beneficial over a simple dual test / train approach due to the limited data and could result in a less biassed model (every data appears as test and train). At traning / test time, the decision class is balanced due to the usage of a stratified approach."
   ]
  },
  {
   "cell_type": "code",
   "execution_count": 161,
   "metadata": {},
   "outputs": [],
   "source": [
    "def train_model(classifier, text, asset, n_splits):\n",
    "    k_fold = StratifiedKFold(n_splits=n_splits, shuffle=True, random_state=7)\n",
    "    return [classifier.fit(text[train], asset[train]).score(text[test], asset[test])\n",
    "     for train, test in k_fold.split(text, asset)]"
   ]
  },
  {
   "cell_type": "code",
   "execution_count": 182,
   "metadata": {
    "scrolled": true
   },
   "outputs": [
    {
     "data": {
      "image/png": "[encoded data removed]",
      "text/plain": [
       "<Figure size 720x432 with 1 Axes>"
      ]
     },
     "metadata": {
      "needs_background": "light"
     },
     "output_type": "display_data"
    },
    {
     "data": {
      "image/png": "[encoded data removed]",
      "text/plain": [
       "<Figure size 720x432 with 1 Axes>"
      ]
     },
     "metadata": {
      "needs_background": "light"
     },
     "output_type": "display_data"
    },
    {
     "data": {
      "image/png": "[encoded data removed]",
      "text/plain": [
       "<Figure size 720x432 with 1 Axes>"
      ]
     },
     "metadata": {
      "needs_background": "light"
     },
     "output_type": "display_data"
    }
   ],
   "source": [
    "dataset_count = 0\n",
    "for dataset in datasets:\n",
    "    \n",
    "    x_train, x_test, y_train, y_test = train_test_split(dataset[1].to_numpy(),\n",
    "                                                        keras.utils.to_categorical(dataset[2].to_numpy(),\n",
    "                                                        num_classes=2), test_size=0.33,\n",
    "                                                        shuffle=True, random_state=7)\n",
    "    accuracies_table = []\n",
    "    encoder = preprocessing.LabelEncoder()\n",
    "    y = encoder.fit_transform(dataset[2])\n",
    "    \n",
    "    text_features = compute_text_features(dataset)\n",
    "\n",
    "    accuracy = train_model(MultinomialNB(), text_features.drop(['ASSET'], axis=1).to_numpy(), y, 10)\n",
    "    # print(\"NB, Text features: \", accuracy)\n",
    "    accuracies_table.append([\"NB, Text Features\", np.average(accuracy)])\n",
    "    \n",
    "    accuracy = train_model(svm.SVC(gamma='auto', max_iter=10000), text_features.drop(['ASSET'], axis=1).to_numpy(), y, 10)\n",
    "    # print(\"SVC, Text features: \", accuracy)\n",
    "    accuracies_table.append([\"SVC, Text Features\", np.average(accuracy)])\n",
    "\n",
    "    accuracy = train_model(ensemble.RandomForestClassifier(n_estimators=100), text_features.drop(['ASSET'], axis=1).to_numpy(), y, 10)\n",
    "    # print(\"RF, Text features: \", accuracy)\n",
    "    accuracies_table.append([\"RF, Text Features\", np.average(accuracy)])\n",
    "\n",
    "    # word level tf-idf\n",
    "    tfidf_vect = TfidfVectorizer(analyzer='word', max_features=50000)\n",
    "    tfidf_word = tfidf_vect.fit_transform(dataset[1])\n",
    "    \n",
    "    accuracy = train_model(BernoulliNB(), tfidf_word.toarray(), y, 10)\n",
    "    # print(\"NB, WordLevel TF-IDF: \", accuracy)\n",
    "    accuracies_table.append([\"NB, WordLevel TF-IDF\", np.average(accuracy)])\n",
    "\n",
    "    accuracy = train_model(svm.LinearSVC(max_iter=10000), tfidf_word, y, 10)\n",
    "    # print(\"SVC, WordLevel TF-IDF: \", accuracy)\n",
    "    accuracies_table.append([\"LinearSVC, WordLevel TF-IDF\", np.average(accuracy)])\n",
    "\n",
    "    accuracy = train_model(ensemble.RandomForestClassifier(n_estimators=100), tfidf_word, y, 10)\n",
    "    # print(\"RF, WordLevel TF-IDF: \", accuracy)\n",
    "    accuracies_table.append([\"RF, WordLevel TF-IDF\", np.average(accuracy)])\n",
    "    \n",
    "    # fig, ax = plt.subplots()\n",
    "    x = np.arange(len(accuracies_table))\n",
    "    accuracies_table = np.array(accuracies_table)\n",
    "\n",
    "    dataset_name = dataset_files[dataset_count].split('/')[1].split('.dat')[0]\n",
    "    plt.figure(figsize=(10, 6))\n",
    "    plt.bar(x, [float(elem[1]) for elem in accuracies_table], )\n",
    "    plt.xticks(x, [elem[0] for elem in accuracies_table], rotation=60)\n",
    "    plt.ylim((0, 1))\n",
    "    plt.title('Cross validation acc. ' + dataset_name)\n",
    "\n",
    "    #plt.savefig(dataset_accuracies.png')\n",
    "    plt.show()\n",
    "    \n",
    "    dataset_count +=1"
   ]
  },
  {
   "cell_type": "markdown",
   "metadata": {},
   "source": [
    "### Comenting the results"
   ]
  },
  {
   "cell_type": "markdown",
   "metadata": {},
   "source": [
    "Despite having lower averaged accuracy than TF-IDF based models, the trained models traning using only text characteristics still show an 80% accuracy whilst having a small dimensionality and not maintaining the actual text. Both SVC and RF based methods are able have a higher accuracy over the naive bayes approach.\n",
    "\n",
    "For the models traned with text features all of them did show an acuracy over 90%. However it must be highlighted that naive bayes, despite been a really simple method (compared to the others) did still manage to obtain a decent accuracy."
   ]
  },
  {
   "cell_type": "markdown",
   "metadata": {},
   "source": [
    "## Discussion Test: Search queries generator\n",
    "\n",
    "**No code is needed for this part, although you might sketch your ideas or explain in the same notebook.**\n",
    "\n",
    "**In Red Points automatic online search bots are the responsible for discovering infringing listings online. Bots need to know what to find and how to reach those listings. So for each product that we protect, bots have to be provided with a useful set of search queries so they find the product that we want. These search queries should bring results in each site that they use, having the most ASSET results as they can, with the least NON-ASSET results possible. How would you design this? What algorithms or methods could you use?**\n",
    "\n",
    "1. Get to study the product text on the company webpage, reviews. Averaged clients ratings aswell.\n",
    "1. Crawl for online sellers big (amazon, ebay, aliexpress, alibaba, gearbest, taobao etc) and small (through a search engine) for products with the same name description.\n",
    "\n",
    "1. Study reviews on every different sellers to account for bias due to bad reviews. (1D CNN, (LSTM / GRU), ...)\n",
    "1. Study # product sales / reviews to account for possible untrusted sellers. \n",
    "1. Study product text on different listings. (Similarity with original product #words. Copy pasting).\n",
    "1. Study price between them, MSRP aswell as tendencies through time. (Gaussian models)\n",
    "\n",
    "1. Computer vision for determining product similarity through pictures and errors in trademark. (CNN & GAN)\n",
    "1. Authorised retailers? (product webpage) (URL matching)\n",
    "1. Crawler using corpus of mispelled product names. (Edit distance)\n",
    "1. (IDEA) Tracking shipping origin could relate to known refurbishing locations (e.g: shenzen)\n",
    "\n",
    "\n",
    "**With time, bots continue bringing more and more results, increasing the number of listing titles in the training set. How would you manage the growth of the training set?**\n",
    "\n",
    "- Using online learning / incremental learning in order to update the model parameters against new data whilst maintaining a checkpoint in order to make sure that the model doesnt get biased.\n",
    "\n",
    "**Also some fake goods sellers, tired of all their listings being removed, start to change the way the call the items (p.e. fakes of brand MYBRAND start being listed as MYRAND or MINEBRAND in their listings). How would your proposed method handle this changes in naming over time?**\n",
    "\n",
    "- Using levenstein / edit distance, a spelling corrector would be created in order to adapt possible rebrandings. That spelling corrector would be created using a corpus of possible combinations of 1-to-n distance created words over the actual brand and would change the actual rebranding to the original if needed. \n",
    "\n",
    "**Reporting a listing as NON-ASSET makes the system \"miss\" some results. We prefer to have them in the system and then reject them, instead of not finding them. What metric should you take into account for this?**\n",
    "\n",
    "* False positives should be taken into account and all the metrics that are constructed from FP as well.\n",
    "\n",
    "**Finally: How would you change your definition if recall was more important than precision?**\n",
    "\n",
    "* Focus should be put into making sure that ASSET labeled results don't get missclassified as NON-ASSET."
   ]
  },
  {
   "cell_type": "code",
   "execution_count": null,
   "metadata": {},
   "outputs": [],
   "source": []
  }
 ],
 "metadata": {
  "kernelspec": {
   "display_name": "Python 3",
   "language": "python",
   "name": "python3"
  },
  "language_info": {
   "codemirror_mode": {
    "name": "ipython",
    "version": 3
   },
   "file_extension": ".py",
   "mimetype": "text/x-python",
   "name": "python",
   "nbconvert_exporter": "python",
   "pygments_lexer": "ipython3",
   "version": "3.6.8"
  }
 },
 "nbformat": 4,
 "nbformat_minor": 2
}
